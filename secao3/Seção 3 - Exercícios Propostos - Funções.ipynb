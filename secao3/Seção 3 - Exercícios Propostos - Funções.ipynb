{
 "cells": [
  {
   "cell_type": "markdown",
   "metadata": {},
   "source": [
    "# Exercícios Propostos\n",
    "\n",
    "**Data de início:** 18-12-2020\n",
    "\n",
    "**Data de término:**"
   ]
  },
  {
   "cell_type": "markdown",
   "metadata": {},
   "source": [
    "### Exercício 1\n",
    "\n",
    "Crie uma função1 que recebe uma função2 como parâmetro e retorne o valor da função2 executada."
   ]
  },
  {
   "cell_type": "markdown",
   "metadata": {},
   "source": [
    "### Solução - Exercício 1 (Incorreto)"
   ]
  },
  {
   "cell_type": "code",
   "execution_count": 2,
   "metadata": {
    "collapsed": true
   },
   "outputs": [
    {
     "name": "stdout",
     "output_type": "stream",
     "text": [
      "('Testando exercício 1',)\n"
     ]
    }
   ],
   "source": [
    "def funcao2(*args):\n",
    "    print(args)\n",
    "    \n",
    "executada = funcao2(\"Testando exercício 1\")\n",
    "\n",
    "def funcao1(funcao2):\n",
    "    print(*executada)"
   ]
  },
  {
   "cell_type": "markdown",
   "metadata": {},
   "source": [
    "### Solução - Exercício 1 (Corrigido)"
   ]
  },
  {
   "cell_type": "code",
   "execution_count": 10,
   "metadata": {
    "collapsed": true
   },
   "outputs": [
    {
     "name": "stdout",
     "output_type": "stream",
     "text": [
      "Olá mundo!\n"
     ]
    }
   ],
   "source": [
    "def ola_mundo():                        # cria uma funcao\n",
    "    return \"Olá mundo!\"\n",
    "\n",
    "def mestre(funcao):                     # cria outra funcao\n",
    "    return funcao()                     # retorna a 'invocacao' da funcao\n",
    "\n",
    "executando = mestre(ola_mundo)\n",
    "print(executando)"
   ]
  },
  {
   "cell_type": "markdown",
   "metadata": {},
   "source": [
    "### Exercício 2\n",
    "\n",
    "Crie uma função1 que recebe uma função2 como parâmetro e retorne o valor da função2 executada. Faça a função1 executar duas funções que recebam um número diferente de argumentos."
   ]
  },
  {
   "cell_type": "markdown",
   "metadata": {},
   "source": [
    "### Solução - Exercício 2 (Incorreto)"
   ]
  },
  {
   "cell_type": "code",
   "execution_count": 9,
   "metadata": {
    "scrolled": true
   },
   "outputs": [
    {
     "name": "stdout",
     "output_type": "stream",
     "text": [
      "Testando exercício 2\n"
     ]
    }
   ],
   "source": [
    "def funcao2(valor):\n",
    "    print(valor)\n",
    "    \n",
    "executada = funcao2(\"Testando exercício 2\")\n",
    "\n",
    "def funcao3(a, b, c, d):\n",
    "    soma= a + b + c + d\n",
    "    print(soma)\n",
    "\n",
    "def funcao1(*args):\n",
    "    print(executada, funcao3(1, 1, 1, 1))\n",
    "    "
   ]
  },
  {
   "cell_type": "markdown",
   "metadata": {},
   "source": [
    "### Solução - Exercício 2 (Corrigido)"
   ]
  },
  {
   "cell_type": "code",
   "execution_count": 13,
   "metadata": {},
   "outputs": [
    {
     "name": "stdout",
     "output_type": "stream",
     "text": [
      "Oi, Bia\n"
     ]
    }
   ],
   "source": [
    "def mestre(funcao, *args, **kwargs):\n",
    "    return funcao(*args, **kwargs)\n",
    "\n",
    "def fala_oi(nome):\n",
    "    return f\"Oi, {nome}\"\n",
    "\n",
    "def saudacao(nome, saudacao):\n",
    "    return f\"{saudacao}, {nome}\"\n",
    "\n",
    "executando = mestre(saudacao, \"Bia\", \"Oi\")\n",
    "print(executando)"
   ]
  }
 ],
 "metadata": {
  "kernelspec": {
   "display_name": "Python 3",
   "language": "python",
   "name": "python3"
  },
  "language_info": {
   "codemirror_mode": {
    "name": "ipython",
    "version": 3
   },
   "file_extension": ".py",
   "mimetype": "text/x-python",
   "name": "python",
   "nbconvert_exporter": "python",
   "pygments_lexer": "ipython3",
   "version": "3.8.5"
  }
 },
 "nbformat": 4,
 "nbformat_minor": 4
}
